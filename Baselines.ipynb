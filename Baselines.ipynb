{
  "nbformat": 4,
  "nbformat_minor": 0,
  "metadata": {
    "colab": {
      "provenance": [],
      "authorship_tag": "ABX9TyOISG+a1flKl6AkZGnO+YRE",
      "include_colab_link": true
    },
    "kernelspec": {
      "name": "python3",
      "display_name": "Python 3"
    },
    "language_info": {
      "name": "python"
    }
  },
  "cells": [
    {
      "cell_type": "markdown",
      "metadata": {
        "id": "view-in-github",
        "colab_type": "text"
      },
      "source": [
        "<a href=\"https://colab.research.google.com/github/TheophileZuber/2024_MLEES/blob/main/Baselines.ipynb\" target=\"_parent\"><img src=\"https://colab.research.google.com/assets/colab-badge.svg\" alt=\"Open In Colab\"/></a>"
      ]
    },
    {
      "cell_type": "markdown",
      "source": [
        "First Baseline (The first one is very simple as it always predicts the most frequent\n",
        "behavior of the dataset.)"
      ],
      "metadata": {
        "id": "eoQ--HcVofEe"
      }
    },
    {
      "cell_type": "markdown",
      "source": [
        "Import packages"
      ],
      "metadata": {
        "id": "STGS5ZKvlZ8b"
      }
    },
    {
      "cell_type": "code",
      "source": [
        "# Import necessary libraries\n",
        "import os\n",
        "import numpy as np\n",
        "import pandas as pd\n",
        "from sklearn.metrics import accuracy_score, classification_report, confusion_matrix, ConfusionMatrixDisplay\n",
        "from sklearn.model_selection import StratifiedKFold\n",
        "import matplotlib.pyplot as plt\n",
        "\n",
        "# Mount Google Drive if not already mounted\n",
        "if not os.path.exists('/content/drive'):\n",
        "    drive.mount('/content/drive')\n",
        "else:\n",
        "    print(\"Drive is already mounted.\")"
      ],
      "metadata": {
        "colab": {
          "base_uri": "https://localhost:8080/"
        },
        "id": "Iol4oPSuc4xp",
        "outputId": "237c0c3a-411e-4687-9fff-325433e4d8eb"
      },
      "execution_count": 14,
      "outputs": [
        {
          "output_type": "stream",
          "name": "stdout",
          "text": [
            "Drive is already mounted.\n"
          ]
        }
      ]
    },
    {
      "cell_type": "markdown",
      "source": [
        "Load the data and split it into features and target sets\n",
        "\n",
        "---\n",
        "\n"
      ],
      "metadata": {
        "id": "zbZmvM4TleWr"
      }
    },
    {
      "cell_type": "code",
      "source": [
        "# Define synthetic data path\n",
        "synthetic_data_path = \"/content/drive/MyDrive/data/synthetic_data.csv\"\n",
        "\n",
        "# Load synthetic data\n",
        "synthetic_data = pd.read_csv(synthetic_data_path)\n",
        "\n",
        "# Define feature and target columns\n",
        "feature_columns = [\n",
        "    'speed_ms', 'stepLenght', 'turnAngle_sin', 'turnAngle_cos',\n",
        "    'hour_sin', 'hour_cos', 'day_sin', 'day_cos'\n",
        "] + list(synthetic_data.columns[8:30])  # Adjust based on synthetic data structure\n",
        "target_column = 'target_class'\n",
        "\n",
        "# Ensure target column exists\n",
        "if target_column not in synthetic_data.columns:\n",
        "    raise ValueError(f\"Target column '{target_column}' is missing from the synthetic data.\")\n",
        "\n",
        "# Extract features and target\n",
        "X = synthetic_data[feature_columns]\n",
        "y = synthetic_data[target_column]\n",
        "\n",
        "# Initialize StratifiedKFold for cross-validation\n",
        "n_splits = 5  # Number of folds\n",
        "skf = StratifiedKFold(n_splits=n_splits, shuffle=True, random_state=42)\n",
        "\n",
        "# Directory to save results\n",
        "results_dir = '/content/drive/MyDrive/Model_results'\n",
        "os.makedirs(results_dir, exist_ok=True)"
      ],
      "metadata": {
        "id": "9djGjfMcWnpL"
      },
      "execution_count": 15,
      "outputs": []
    },
    {
      "cell_type": "markdown",
      "source": [
        "Run the model with a crossvalidation"
      ],
      "metadata": {
        "id": "hE0RrC05n5sQ"
      }
    },
    {
      "cell_type": "code",
      "source": [
        "# Perform cross-validation for evaluation\n",
        "for fold, (train_idx, val_idx) in enumerate(skf.split(X, y)):\n",
        "    print(f\"Fold {fold + 1}\")\n",
        "\n",
        "    # Split synthetic data into training and validation sets for this fold\n",
        "    X_train, X_val = X.iloc[train_idx], X.iloc[val_idx]\n",
        "    y_train, y_val = y.iloc[train_idx], y.iloc[val_idx]\n",
        "\n",
        "    # Baseline model: predict the most frequent class in the training set\n",
        "    most_frequent_class = y_train.mode()[0]  # Determine the most frequent class\n",
        "    y_pred = [most_frequent_class] * len(y_val)  # Predict the same class for all validation samples\n",
        "\n",
        "    # Evaluate the baseline model\n",
        "    accuracy = accuracy_score(y_val, y_pred)\n",
        "    print(f\"Fold {fold + 1} Accuracy: {accuracy:.2f}\")\n",
        "\n",
        "    # Generate a classification report\n",
        "    classification_report_dict = classification_report(y_val, y_pred, output_dict=True)\n",
        "    print(f\"Fold {fold + 1} Classification Report:\")\n",
        "    print(classification_report(y_val, y_pred))\n",
        "\n",
        "    # Save the classification report as a CSV file\n",
        "    report_path = os.path.join(results_dir, f\"classification_report_fold_{fold + 1}.csv\")\n",
        "    pd.DataFrame(classification_report_dict).transpose().to_csv(report_path, index=True)\n",
        "\n",
        "    # Generate and save the confusion matrix\n",
        "    cm = confusion_matrix(y_val, y_pred, labels=[most_frequent_class])\n",
        "    cm_display = ConfusionMatrixDisplay(confusion_matrix=cm, display_labels=[most_frequent_class])\n",
        "    cm_display.plot(cmap='viridis')\n",
        "    plt.title(f\"Confusion Matrix - Fold {fold + 1}\")\n",
        "    cm_path = os.path.join(results_dir, f\"confusion_matrix_fold_{fold + 1}.png\")\n",
        "    plt.savefig(cm_path)\n",
        "    plt.close()\n",
        "\n",
        "print(\"Evaluation with baseline model complete. Results saved.\")"
      ],
      "metadata": {
        "colab": {
          "base_uri": "https://localhost:8080/"
        },
        "id": "2GpEy7Nrh5sf",
        "outputId": "cb2d15dc-dda8-4caf-f739-c95c6184a026"
      },
      "execution_count": 16,
      "outputs": [
        {
          "output_type": "stream",
          "name": "stdout",
          "text": [
            "Fold 1\n",
            "Fold 1 Accuracy: 0.37\n",
            "Fold 1 Classification Report:\n"
          ]
        },
        {
          "output_type": "stream",
          "name": "stderr",
          "text": [
            "/usr/local/lib/python3.10/dist-packages/sklearn/metrics/_classification.py:1565: UndefinedMetricWarning: Precision is ill-defined and being set to 0.0 in labels with no predicted samples. Use `zero_division` parameter to control this behavior.\n",
            "  _warn_prf(average, modifier, f\"{metric.capitalize()} is\", len(result))\n",
            "/usr/local/lib/python3.10/dist-packages/sklearn/metrics/_classification.py:1565: UndefinedMetricWarning: Precision is ill-defined and being set to 0.0 in labels with no predicted samples. Use `zero_division` parameter to control this behavior.\n",
            "  _warn_prf(average, modifier, f\"{metric.capitalize()} is\", len(result))\n",
            "/usr/local/lib/python3.10/dist-packages/sklearn/metrics/_classification.py:1565: UndefinedMetricWarning: Precision is ill-defined and being set to 0.0 in labels with no predicted samples. Use `zero_division` parameter to control this behavior.\n",
            "  _warn_prf(average, modifier, f\"{metric.capitalize()} is\", len(result))\n",
            "/usr/local/lib/python3.10/dist-packages/sklearn/metrics/_classification.py:1565: UndefinedMetricWarning: Precision is ill-defined and being set to 0.0 in labels with no predicted samples. Use `zero_division` parameter to control this behavior.\n",
            "  _warn_prf(average, modifier, f\"{metric.capitalize()} is\", len(result))\n",
            "/usr/local/lib/python3.10/dist-packages/sklearn/metrics/_classification.py:1565: UndefinedMetricWarning: Precision is ill-defined and being set to 0.0 in labels with no predicted samples. Use `zero_division` parameter to control this behavior.\n",
            "  _warn_prf(average, modifier, f\"{metric.capitalize()} is\", len(result))\n",
            "/usr/local/lib/python3.10/dist-packages/sklearn/metrics/_classification.py:1565: UndefinedMetricWarning: Precision is ill-defined and being set to 0.0 in labels with no predicted samples. Use `zero_division` parameter to control this behavior.\n",
            "  _warn_prf(average, modifier, f\"{metric.capitalize()} is\", len(result))\n"
          ]
        },
        {
          "output_type": "stream",
          "name": "stdout",
          "text": [
            "                          precision    recall  f1-score   support\n",
            "\n",
            "           target_Eating       0.00      0.00      0.00       849\n",
            "target_Grooming_receiver       0.00      0.00      0.00      1003\n",
            "          target_Resting       0.37      1.00      0.54      1478\n",
            "          target_Running       0.00      0.00      0.00        28\n",
            "         target_Sleeping       0.00      0.00      0.00       283\n",
            "          target_Walking       0.00      0.00      0.00       359\n",
            "\n",
            "                accuracy                           0.37      4000\n",
            "               macro avg       0.06      0.17      0.09      4000\n",
            "            weighted avg       0.14      0.37      0.20      4000\n",
            "\n"
          ]
        },
        {
          "output_type": "stream",
          "name": "stderr",
          "text": [
            "/usr/local/lib/python3.10/dist-packages/sklearn/metrics/_classification.py:407: UserWarning: A single label was found in 'y_true' and 'y_pred'. For the confusion matrix to have the correct shape, use the 'labels' parameter to pass all known labels.\n",
            "  warnings.warn(\n"
          ]
        },
        {
          "output_type": "stream",
          "name": "stdout",
          "text": [
            "Fold 2\n",
            "Fold 2 Accuracy: 0.37\n"
          ]
        },
        {
          "output_type": "stream",
          "name": "stderr",
          "text": [
            "/usr/local/lib/python3.10/dist-packages/sklearn/metrics/_classification.py:1565: UndefinedMetricWarning: Precision is ill-defined and being set to 0.0 in labels with no predicted samples. Use `zero_division` parameter to control this behavior.\n",
            "  _warn_prf(average, modifier, f\"{metric.capitalize()} is\", len(result))\n",
            "/usr/local/lib/python3.10/dist-packages/sklearn/metrics/_classification.py:1565: UndefinedMetricWarning: Precision is ill-defined and being set to 0.0 in labels with no predicted samples. Use `zero_division` parameter to control this behavior.\n",
            "  _warn_prf(average, modifier, f\"{metric.capitalize()} is\", len(result))\n",
            "/usr/local/lib/python3.10/dist-packages/sklearn/metrics/_classification.py:1565: UndefinedMetricWarning: Precision is ill-defined and being set to 0.0 in labels with no predicted samples. Use `zero_division` parameter to control this behavior.\n",
            "  _warn_prf(average, modifier, f\"{metric.capitalize()} is\", len(result))\n",
            "/usr/local/lib/python3.10/dist-packages/sklearn/metrics/_classification.py:1565: UndefinedMetricWarning: Precision is ill-defined and being set to 0.0 in labels with no predicted samples. Use `zero_division` parameter to control this behavior.\n",
            "  _warn_prf(average, modifier, f\"{metric.capitalize()} is\", len(result))\n",
            "/usr/local/lib/python3.10/dist-packages/sklearn/metrics/_classification.py:1565: UndefinedMetricWarning: Precision is ill-defined and being set to 0.0 in labels with no predicted samples. Use `zero_division` parameter to control this behavior.\n",
            "  _warn_prf(average, modifier, f\"{metric.capitalize()} is\", len(result))\n"
          ]
        },
        {
          "output_type": "stream",
          "name": "stdout",
          "text": [
            "Fold 2 Classification Report:\n"
          ]
        },
        {
          "output_type": "stream",
          "name": "stderr",
          "text": [
            "/usr/local/lib/python3.10/dist-packages/sklearn/metrics/_classification.py:1565: UndefinedMetricWarning: Precision is ill-defined and being set to 0.0 in labels with no predicted samples. Use `zero_division` parameter to control this behavior.\n",
            "  _warn_prf(average, modifier, f\"{metric.capitalize()} is\", len(result))\n",
            "/usr/local/lib/python3.10/dist-packages/sklearn/metrics/_classification.py:407: UserWarning: A single label was found in 'y_true' and 'y_pred'. For the confusion matrix to have the correct shape, use the 'labels' parameter to pass all known labels.\n",
            "  warnings.warn(\n"
          ]
        },
        {
          "output_type": "stream",
          "name": "stdout",
          "text": [
            "                          precision    recall  f1-score   support\n",
            "\n",
            "           target_Eating       0.00      0.00      0.00       849\n",
            "target_Grooming_receiver       0.00      0.00      0.00      1003\n",
            "          target_Resting       0.37      1.00      0.54      1477\n",
            "          target_Running       0.00      0.00      0.00        28\n",
            "         target_Sleeping       0.00      0.00      0.00       283\n",
            "          target_Walking       0.00      0.00      0.00       360\n",
            "\n",
            "                accuracy                           0.37      4000\n",
            "               macro avg       0.06      0.17      0.09      4000\n",
            "            weighted avg       0.14      0.37      0.20      4000\n",
            "\n",
            "Fold 3\n",
            "Fold 3 Accuracy: 0.37\n"
          ]
        },
        {
          "output_type": "stream",
          "name": "stderr",
          "text": [
            "/usr/local/lib/python3.10/dist-packages/sklearn/metrics/_classification.py:1565: UndefinedMetricWarning: Precision is ill-defined and being set to 0.0 in labels with no predicted samples. Use `zero_division` parameter to control this behavior.\n",
            "  _warn_prf(average, modifier, f\"{metric.capitalize()} is\", len(result))\n",
            "/usr/local/lib/python3.10/dist-packages/sklearn/metrics/_classification.py:1565: UndefinedMetricWarning: Precision is ill-defined and being set to 0.0 in labels with no predicted samples. Use `zero_division` parameter to control this behavior.\n",
            "  _warn_prf(average, modifier, f\"{metric.capitalize()} is\", len(result))\n",
            "/usr/local/lib/python3.10/dist-packages/sklearn/metrics/_classification.py:1565: UndefinedMetricWarning: Precision is ill-defined and being set to 0.0 in labels with no predicted samples. Use `zero_division` parameter to control this behavior.\n",
            "  _warn_prf(average, modifier, f\"{metric.capitalize()} is\", len(result))\n",
            "/usr/local/lib/python3.10/dist-packages/sklearn/metrics/_classification.py:1565: UndefinedMetricWarning: Precision is ill-defined and being set to 0.0 in labels with no predicted samples. Use `zero_division` parameter to control this behavior.\n",
            "  _warn_prf(average, modifier, f\"{metric.capitalize()} is\", len(result))\n",
            "/usr/local/lib/python3.10/dist-packages/sklearn/metrics/_classification.py:1565: UndefinedMetricWarning: Precision is ill-defined and being set to 0.0 in labels with no predicted samples. Use `zero_division` parameter to control this behavior.\n",
            "  _warn_prf(average, modifier, f\"{metric.capitalize()} is\", len(result))\n",
            "/usr/local/lib/python3.10/dist-packages/sklearn/metrics/_classification.py:1565: UndefinedMetricWarning: Precision is ill-defined and being set to 0.0 in labels with no predicted samples. Use `zero_division` parameter to control this behavior.\n",
            "  _warn_prf(average, modifier, f\"{metric.capitalize()} is\", len(result))\n",
            "/usr/local/lib/python3.10/dist-packages/sklearn/metrics/_classification.py:407: UserWarning: A single label was found in 'y_true' and 'y_pred'. For the confusion matrix to have the correct shape, use the 'labels' parameter to pass all known labels.\n",
            "  warnings.warn(\n"
          ]
        },
        {
          "output_type": "stream",
          "name": "stdout",
          "text": [
            "Fold 3 Classification Report:\n",
            "                          precision    recall  f1-score   support\n",
            "\n",
            "           target_Eating       0.00      0.00      0.00       849\n",
            "target_Grooming_receiver       0.00      0.00      0.00      1003\n",
            "          target_Resting       0.37      1.00      0.54      1477\n",
            "          target_Running       0.00      0.00      0.00        28\n",
            "         target_Sleeping       0.00      0.00      0.00       283\n",
            "          target_Walking       0.00      0.00      0.00       360\n",
            "\n",
            "                accuracy                           0.37      4000\n",
            "               macro avg       0.06      0.17      0.09      4000\n",
            "            weighted avg       0.14      0.37      0.20      4000\n",
            "\n",
            "Fold 4\n",
            "Fold 4 Accuracy: 0.37\n",
            "Fold 4 Classification Report:\n",
            "                          precision    recall  f1-score   support\n",
            "\n",
            "           target_Eating       0.00      0.00      0.00       849\n",
            "target_Grooming_receiver       0.00      0.00      0.00      1003\n",
            "          target_Resting       0.37      1.00      0.54      1477\n",
            "          target_Running       0.00      0.00      0.00        28\n",
            "         target_Sleeping       0.00      0.00      0.00       283\n",
            "          target_Walking       0.00      0.00      0.00       360\n",
            "\n",
            "                accuracy                           0.37      4000\n",
            "               macro avg       0.06      0.17      0.09      4000\n",
            "            weighted avg       0.14      0.37      0.20      4000\n",
            "\n"
          ]
        },
        {
          "output_type": "stream",
          "name": "stderr",
          "text": [
            "/usr/local/lib/python3.10/dist-packages/sklearn/metrics/_classification.py:1565: UndefinedMetricWarning: Precision is ill-defined and being set to 0.0 in labels with no predicted samples. Use `zero_division` parameter to control this behavior.\n",
            "  _warn_prf(average, modifier, f\"{metric.capitalize()} is\", len(result))\n",
            "/usr/local/lib/python3.10/dist-packages/sklearn/metrics/_classification.py:1565: UndefinedMetricWarning: Precision is ill-defined and being set to 0.0 in labels with no predicted samples. Use `zero_division` parameter to control this behavior.\n",
            "  _warn_prf(average, modifier, f\"{metric.capitalize()} is\", len(result))\n",
            "/usr/local/lib/python3.10/dist-packages/sklearn/metrics/_classification.py:1565: UndefinedMetricWarning: Precision is ill-defined and being set to 0.0 in labels with no predicted samples. Use `zero_division` parameter to control this behavior.\n",
            "  _warn_prf(average, modifier, f\"{metric.capitalize()} is\", len(result))\n",
            "/usr/local/lib/python3.10/dist-packages/sklearn/metrics/_classification.py:1565: UndefinedMetricWarning: Precision is ill-defined and being set to 0.0 in labels with no predicted samples. Use `zero_division` parameter to control this behavior.\n",
            "  _warn_prf(average, modifier, f\"{metric.capitalize()} is\", len(result))\n",
            "/usr/local/lib/python3.10/dist-packages/sklearn/metrics/_classification.py:1565: UndefinedMetricWarning: Precision is ill-defined and being set to 0.0 in labels with no predicted samples. Use `zero_division` parameter to control this behavior.\n",
            "  _warn_prf(average, modifier, f\"{metric.capitalize()} is\", len(result))\n",
            "/usr/local/lib/python3.10/dist-packages/sklearn/metrics/_classification.py:1565: UndefinedMetricWarning: Precision is ill-defined and being set to 0.0 in labels with no predicted samples. Use `zero_division` parameter to control this behavior.\n",
            "  _warn_prf(average, modifier, f\"{metric.capitalize()} is\", len(result))\n",
            "/usr/local/lib/python3.10/dist-packages/sklearn/metrics/_classification.py:407: UserWarning: A single label was found in 'y_true' and 'y_pred'. For the confusion matrix to have the correct shape, use the 'labels' parameter to pass all known labels.\n",
            "  warnings.warn(\n"
          ]
        },
        {
          "output_type": "stream",
          "name": "stdout",
          "text": [
            "Fold 5\n",
            "Fold 5 Accuracy: 0.37\n",
            "Fold 5 Classification Report:\n",
            "                          precision    recall  f1-score   support\n",
            "\n",
            "           target_Eating       0.00      0.00      0.00       850\n",
            "target_Grooming_receiver       0.00      0.00      0.00      1002\n",
            "          target_Resting       0.37      1.00      0.54      1477\n",
            "          target_Running       0.00      0.00      0.00        28\n",
            "         target_Sleeping       0.00      0.00      0.00       283\n",
            "          target_Walking       0.00      0.00      0.00       360\n",
            "\n",
            "                accuracy                           0.37      4000\n",
            "               macro avg       0.06      0.17      0.09      4000\n",
            "            weighted avg       0.14      0.37      0.20      4000\n",
            "\n"
          ]
        },
        {
          "output_type": "stream",
          "name": "stderr",
          "text": [
            "/usr/local/lib/python3.10/dist-packages/sklearn/metrics/_classification.py:1565: UndefinedMetricWarning: Precision is ill-defined and being set to 0.0 in labels with no predicted samples. Use `zero_division` parameter to control this behavior.\n",
            "  _warn_prf(average, modifier, f\"{metric.capitalize()} is\", len(result))\n",
            "/usr/local/lib/python3.10/dist-packages/sklearn/metrics/_classification.py:1565: UndefinedMetricWarning: Precision is ill-defined and being set to 0.0 in labels with no predicted samples. Use `zero_division` parameter to control this behavior.\n",
            "  _warn_prf(average, modifier, f\"{metric.capitalize()} is\", len(result))\n",
            "/usr/local/lib/python3.10/dist-packages/sklearn/metrics/_classification.py:1565: UndefinedMetricWarning: Precision is ill-defined and being set to 0.0 in labels with no predicted samples. Use `zero_division` parameter to control this behavior.\n",
            "  _warn_prf(average, modifier, f\"{metric.capitalize()} is\", len(result))\n",
            "/usr/local/lib/python3.10/dist-packages/sklearn/metrics/_classification.py:1565: UndefinedMetricWarning: Precision is ill-defined and being set to 0.0 in labels with no predicted samples. Use `zero_division` parameter to control this behavior.\n",
            "  _warn_prf(average, modifier, f\"{metric.capitalize()} is\", len(result))\n",
            "/usr/local/lib/python3.10/dist-packages/sklearn/metrics/_classification.py:1565: UndefinedMetricWarning: Precision is ill-defined and being set to 0.0 in labels with no predicted samples. Use `zero_division` parameter to control this behavior.\n",
            "  _warn_prf(average, modifier, f\"{metric.capitalize()} is\", len(result))\n",
            "/usr/local/lib/python3.10/dist-packages/sklearn/metrics/_classification.py:1565: UndefinedMetricWarning: Precision is ill-defined and being set to 0.0 in labels with no predicted samples. Use `zero_division` parameter to control this behavior.\n",
            "  _warn_prf(average, modifier, f\"{metric.capitalize()} is\", len(result))\n",
            "/usr/local/lib/python3.10/dist-packages/sklearn/metrics/_classification.py:407: UserWarning: A single label was found in 'y_true' and 'y_pred'. For the confusion matrix to have the correct shape, use the 'labels' parameter to pass all known labels.\n",
            "  warnings.warn(\n"
          ]
        },
        {
          "output_type": "stream",
          "name": "stdout",
          "text": [
            "Evaluation with baseline model complete. Results saved.\n"
          ]
        }
      ]
    },
    {
      "cell_type": "markdown",
      "source": [
        "Second Baseline (The second baseline always predicts that the current behavior will be the same\n",
        "in the next step.)"
      ],
      "metadata": {
        "id": "5Gy_d6-FokCa"
      }
    },
    {
      "cell_type": "markdown",
      "source": [
        "Import modules"
      ],
      "metadata": {
        "id": "01qwHP5Roj3Y"
      }
    },
    {
      "cell_type": "code",
      "source": [
        "# Import necessary libraries\n",
        "import os\n",
        "from google.colab import drive\n",
        "import numpy as np\n",
        "import pandas as pd\n",
        "from sklearn.metrics import accuracy_score, classification_report, confusion_matrix, ConfusionMatrixDisplay\n",
        "import matplotlib.pyplot as plt\n",
        "\n",
        "# Mount Google Drive if not already mounted\n",
        "if not os.path.exists('/content/drive'):\n",
        "    drive.mount('/content/drive')\n",
        "else:\n",
        "    print(\"Drive is already mounted.\")"
      ],
      "metadata": {
        "colab": {
          "base_uri": "https://localhost:8080/"
        },
        "id": "yR_u790kqIOT",
        "outputId": "8c797c92-7671-4bb3-9b13-ba410808928b"
      },
      "execution_count": 9,
      "outputs": [
        {
          "output_type": "stream",
          "name": "stdout",
          "text": [
            "Drive is already mounted.\n"
          ]
        }
      ]
    },
    {
      "cell_type": "markdown",
      "source": [
        "Load the data and split it into features and target sets"
      ],
      "metadata": {
        "id": "1c0x2is-qPnc"
      }
    },
    {
      "cell_type": "code",
      "source": [
        "# Load synthetic data (preprocessed in previous scripts)\n",
        "synthetic_data_path = \"/content/drive/MyDrive/data/synthetic_data.csv\"\n",
        "synthetic_data = pd.read_csv(synthetic_data_path)\n",
        "\n",
        "# Define feature and target columns\n",
        "feature_columns = [\n",
        "    'speed_ms', 'stepLenght', 'turnAngle_sin', 'turnAngle_cos',\n",
        "    'hour_sin', 'hour_cos', 'day_sin', 'day_cos'\n",
        "] + list(synthetic_data.columns[8:30])  # Adjust based on synthetic data structure\n",
        "target_column = 'target_class'\n",
        "\n",
        "# Ensure target column exists and is properly formatted\n",
        "if target_column not in synthetic_data.columns:\n",
        "    raise ValueError(f\"Target column '{target_column}' is missing from the synthetic data.\")\n",
        "\n",
        "# Reset index to align operations\n",
        "synthetic_data.reset_index(drop=True, inplace=True)"
      ],
      "metadata": {
        "id": "_qKCehhkqdXZ"
      },
      "execution_count": 10,
      "outputs": []
    },
    {
      "cell_type": "markdown",
      "source": [
        "Training of the model"
      ],
      "metadata": {
        "id": "vMkci8G4qdN8"
      }
    },
    {
      "cell_type": "code",
      "source": [
        "# Extract target for sequential baseline prediction\n",
        "y_test = synthetic_data[target_column]\n",
        "y_pred_sequential = y_test.copy()\n",
        "\n",
        "# Predict the behavior at time t+1 based on behavior at time t\n",
        "y_pred_sequential.iloc[1:] = y_test.iloc[:-1].values  # Shift y_test up by 1 row\n",
        "y_pred_sequential.iloc[0] = y_test.mode().iloc[0]  # Handle the first row (fallback to mode)\n",
        "\n",
        "# Calculate metrics\n",
        "sequential_baseline_accuracy = accuracy_score(y_test, y_pred_sequential)\n",
        "sequential_classification_report = classification_report(\n",
        "    y_test, y_pred_sequential, output_dict=True\n",
        ")\n",
        "\n",
        "# Extract precision, recall, and F1-score\n",
        "precision = sequential_classification_report['weighted avg']['precision']\n",
        "recall = sequential_classification_report['weighted avg']['recall']\n",
        "f1_score = sequential_classification_report['weighted avg']['f1-score']\n"
      ],
      "metadata": {
        "id": "NL1nNNb4qdCL"
      },
      "execution_count": 11,
      "outputs": []
    },
    {
      "cell_type": "markdown",
      "source": [
        "Calculate and print the metrics"
      ],
      "metadata": {
        "id": "yuo1JrZcqpog"
      }
    },
    {
      "cell_type": "code",
      "source": [
        "# Print metrics\n",
        "print(f\"Sequential Baseline Accuracy: {sequential_baseline_accuracy:.2f}\")\n",
        "print(f\"Precision: {precision:.2f}\")\n",
        "print(f\"Recall: {recall:.2f}\")\n",
        "print(f\"F1 Score: {f1_score:.2f}\")\n",
        "\n",
        "# Generate and save the confusion matrix\n",
        "cm_sequential = confusion_matrix(y_test, y_pred_sequential)\n",
        "cm_display_sequential = ConfusionMatrixDisplay(confusion_matrix=cm_sequential)\n",
        "cm_display_sequential.plot(cmap='viridis')\n",
        "plt.title(\"Sequential Baseline Confusion Matrix\")\n",
        "\n",
        "# Save results to Google Drive\n",
        "results_dir = '/content/drive/MyDrive/Model_results'\n",
        "os.makedirs(results_dir, exist_ok=True)\n",
        "plt.savefig(os.path.join(results_dir, 'sequential_baseline_confusion_matrix.png'))\n",
        "plt.close()\n",
        "\n",
        "# Save classification report as CSV\n",
        "classification_report_path = os.path.join(results_dir, \"sequential_baseline_classification_report.csv\")\n",
        "pd.DataFrame(sequential_classification_report).transpose().to_csv(classification_report_path)\n",
        "\n",
        "print(\"Sequential baseline results saved successfully.\")"
      ],
      "metadata": {
        "colab": {
          "base_uri": "https://localhost:8080/"
        },
        "id": "B_n7bS4KqqtE",
        "outputId": "be3c5146-8208-4a8c-d79f-57f97c3408f6"
      },
      "execution_count": 12,
      "outputs": [
        {
          "output_type": "stream",
          "name": "stdout",
          "text": [
            "Sequential Baseline Accuracy: 0.25\n",
            "Precision: 0.25\n",
            "Recall: 0.25\n",
            "F1 Score: 0.25\n",
            "Sequential baseline results saved successfully.\n"
          ]
        }
      ]
    }
  ]
}